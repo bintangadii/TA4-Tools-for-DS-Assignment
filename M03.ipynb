{
 "cells": [
  {
   "cell_type": "code",
   "execution_count": 1,
   "id": "8b73a3b5",
   "metadata": {},
   "outputs": [
    {
     "name": "stdout",
     "output_type": "stream",
     "text": [
      "Requirement already satisfied: pandas in c:\\users\\binta\\anaconda3\\lib\\site-packages (1.5.3)\n",
      "Requirement already satisfied: pytz>=2020.1 in c:\\users\\binta\\anaconda3\\lib\\site-packages (from pandas) (2022.7)\n",
      "Requirement already satisfied: numpy>=1.21.0 in c:\\users\\binta\\anaconda3\\lib\\site-packages (from pandas) (1.23.5)\n",
      "Requirement already satisfied: python-dateutil>=2.8.1 in c:\\users\\binta\\anaconda3\\lib\\site-packages (from pandas) (2.8.2)\n",
      "Requirement already satisfied: six>=1.5 in c:\\users\\binta\\anaconda3\\lib\\site-packages (from python-dateutil>=2.8.1->pandas) (1.16.0)\n",
      "Note: you may need to restart the kernel to use updated packages.\n"
     ]
    }
   ],
   "source": [
    "pip install pandas"
   ]
  },
  {
   "cell_type": "code",
   "execution_count": 2,
   "id": "3d8b0552",
   "metadata": {},
   "outputs": [
    {
     "name": "stdout",
     "output_type": "stream",
     "text": [
      "Requirement already satisfied: numpy in c:\\users\\binta\\anaconda3\\lib\\site-packages (1.23.5)\n",
      "Note: you may need to restart the kernel to use updated packages.\n"
     ]
    }
   ],
   "source": [
    "pip install numpy"
   ]
  },
  {
   "cell_type": "markdown",
   "id": "78be2a78",
   "metadata": {},
   "source": [
    "nilai = [90,100,100,50,40,30,75,80,90,35] diberikan sebuah list nilai ujian matematika SD.\n",
    "\n",
    "a. hitunglah rata-rata nilai tanpa menggunakan numpy b. hitunglah rata-rata nilai menggunakan numpy"
   ]
  },
  {
   "cell_type": "code",
   "execution_count": 3,
   "id": "1e871fbb",
   "metadata": {},
   "outputs": [
    {
     "name": "stdout",
     "output_type": "stream",
     "text": [
      "Rata-rata nilai tanpa menggunakan NumPy: 69.0\n"
     ]
    }
   ],
   "source": [
    "nilai = [90,100,100,50,40,30,75,80,90,35]\n",
    "\n",
    "total = sum(nilai)\n",
    "rata2 = total / len(nilai)\n",
    "\n",
    "print(\"Rata-rata nilai tanpa menggunakan NumPy:\", rata2)"
   ]
  },
  {
   "cell_type": "code",
   "execution_count": 4,
   "id": "6b473dc9",
   "metadata": {},
   "outputs": [
    {
     "name": "stdout",
     "output_type": "stream",
     "text": [
      "Rata-rata nilai menggunakan NumPy: 69.0\n"
     ]
    }
   ],
   "source": [
    "import numpy as np\n",
    "\n",
    "nilai = [90, 100, 100, 50, 40, 30, 75, 80, 90, 35]\n",
    "\n",
    "rata2 = np.mean(nilai)\n",
    "\n",
    "print(\"Rata-rata nilai menggunakan NumPy:\", rata2)\n"
   ]
  },
  {
   "cell_type": "code",
   "execution_count": null,
   "id": "d97dfa0d",
   "metadata": {},
   "outputs": [],
   "source": []
  }
 ],
 "metadata": {
  "kernelspec": {
   "display_name": "Python 3 (ipykernel)",
   "language": "python",
   "name": "python3"
  },
  "language_info": {
   "codemirror_mode": {
    "name": "ipython",
    "version": 3
   },
   "file_extension": ".py",
   "mimetype": "text/x-python",
   "name": "python",
   "nbconvert_exporter": "python",
   "pygments_lexer": "ipython3",
   "version": "3.10.9"
  }
 },
 "nbformat": 4,
 "nbformat_minor": 5
}
